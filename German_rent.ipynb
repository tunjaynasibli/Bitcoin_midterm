{
 "cells": [
  {
   "cell_type": "code",
   "execution_count": 1,
   "id": "412d9077",
   "metadata": {},
   "outputs": [],
   "source": [
    "import pandas as pd\n",
    "import numpy as np"
   ]
  },
  {
   "cell_type": "code",
   "execution_count": 2,
   "id": "dc51e465",
   "metadata": {},
   "outputs": [],
   "source": [
    "data = pd.read_csv(\"immo_data.csv\")"
   ]
  },
  {
   "cell_type": "code",
   "execution_count": 3,
   "id": "e6558b4e",
   "metadata": {},
   "outputs": [
    {
     "data": {
      "text/plain": [
       "Index(['regio1', 'serviceCharge', 'heatingType', 'telekomTvOffer',\n",
       "       'telekomHybridUploadSpeed', 'newlyConst', 'balcony', 'picturecount',\n",
       "       'pricetrend', 'telekomUploadSpeed', 'totalRent', 'yearConstructed',\n",
       "       'scoutId', 'noParkSpaces', 'firingTypes', 'hasKitchen', 'geo_bln',\n",
       "       'cellar', 'yearConstructedRange', 'baseRent', 'houseNumber',\n",
       "       'livingSpace', 'geo_krs', 'condition', 'interiorQual', 'petsAllowed',\n",
       "       'street', 'streetPlain', 'lift', 'baseRentRange', 'typeOfFlat',\n",
       "       'geo_plz', 'noRooms', 'thermalChar', 'floor', 'numberOfFloors',\n",
       "       'noRoomsRange', 'garden', 'livingSpaceRange', 'regio2', 'regio3',\n",
       "       'description', 'facilities', 'heatingCosts', 'energyEfficiencyClass',\n",
       "       'lastRefurbish', 'electricityBasePrice', 'electricityKwhPrice', 'date'],\n",
       "      dtype='object')"
      ]
     },
     "execution_count": 3,
     "metadata": {},
     "output_type": "execute_result"
    }
   ],
   "source": [
    "data.columns"
   ]
  },
  {
   "cell_type": "code",
   "execution_count": 4,
   "id": "1f66c3db",
   "metadata": {},
   "outputs": [],
   "source": [
    "deleted_list = [ \"heatingType\", \"telekomTvOffer\", \"telekomHybridUploadSpeed\", \"picturecount\", \"pricetrend\", \n",
    "                \"telekomUploadSpeed\", \"scoutId\", \"noParkSpaces\", \"firingTypes\", \"geo_bln\", \"yearConstructedRange\",\n",
    "               \"houseNumber\", \"geo_krs\",\"condition\", \"interiorQual\", \"petsAllowed\",\"street\", \"streetPlain\", \"lift\", \n",
    "                \"baseRentRange\",\"geo_plz\", \"thermalChar\", \"floor\", \"numberOfFloors\", \"noRoomsRange\", \n",
    "                \"livingSpaceRange\", \"regio3\", \"description\", \"facilities\", \"heatingCosts\",\n",
    "                \"energyEfficiencyClass\", \"lastRefurbish\",\n",
    "               \"electricityBasePrice\", \"electricityKwhPrice\"]"
   ]
  },
  {
   "cell_type": "code",
   "execution_count": 5,
   "id": "8df99f4d",
   "metadata": {},
   "outputs": [],
   "source": [
    "data.drop(deleted_list, axis=1, inplace=True)"
   ]
  },
  {
   "cell_type": "code",
   "execution_count": 6,
   "id": "4e88b9ab",
   "metadata": {},
   "outputs": [],
   "source": [
    "Berlin_data = data[data[\"regio2\"] == \"Berlin\" ]\n",
    "Hamburg_data = data[data[\"regio2\"] == \"Hamburg\" ]\n",
    "Munchen_data = data[data[\"regio2\"] == \"München\" ]"
   ]
  },
  {
   "cell_type": "code",
   "execution_count": 7,
   "id": "aaec615a",
   "metadata": {},
   "outputs": [],
   "source": [
    "def nan_counter(df):\n",
    "    remaining_nan = {}\n",
    "    for column in df.columns:\n",
    "        remaining_nan[column] = df[column][df[column].isna() == True].size\n",
    "    return remaining_nan"
   ]
  },
  {
   "cell_type": "code",
   "execution_count": 8,
   "id": "dc78b8ff",
   "metadata": {},
   "outputs": [
    {
     "data": {
      "text/plain": [
       "{'serviceCharge': 91,\n",
       " 'newlyConst': 0,\n",
       " 'balcony': 0,\n",
       " 'totalRent': 364,\n",
       " 'yearConstructed': 508,\n",
       " 'hasKitchen': 0,\n",
       " 'cellar': 0,\n",
       " 'baseRent': 0,\n",
       " 'livingSpace': 0,\n",
       " 'typeOfFlat': 319,\n",
       " 'noRooms': 0,\n",
       " 'garden': 0,\n",
       " 'regio2': 0,\n",
       " 'date': 0}"
      ]
     },
     "execution_count": 8,
     "metadata": {},
     "output_type": "execute_result"
    }
   ],
   "source": [
    "## We check the NaN values and we decided to fix them.\n",
    "nan_counter(Hamburg_data)"
   ]
  },
  {
   "cell_type": "code",
   "execution_count": 174,
   "id": "04f7ca8d",
   "metadata": {},
   "outputs": [],
   "source": [
    "## We decided that values more than 1000 for serviceCharge are outliers so made filter.\n",
    "Hamburg_data = Hamburg_data[Hamburg_data[\"serviceCharge\"] < 1000]"
   ]
  },
  {
   "cell_type": "code",
   "execution_count": 178,
   "id": "55c41cef",
   "metadata": {},
   "outputs": [
    {
     "data": {
      "text/plain": [
       "(3654, 14)"
      ]
     },
     "execution_count": 178,
     "metadata": {},
     "output_type": "execute_result"
    }
   ],
   "source": [
    "Hamburg_data.shape"
   ]
  },
  {
   "cell_type": "code",
   "execution_count": 176,
   "id": "1a513160",
   "metadata": {},
   "outputs": [
    {
     "data": {
      "text/plain": [
       "<AxesSubplot:>"
      ]
     },
     "execution_count": 176,
     "metadata": {},
     "output_type": "execute_result"
    },
    {
     "data": {
      "image/png": "[encoded data removed]",
      "text/plain": [
       "<Figure size 432x288 with 1 Axes>"
      ]
     },
     "metadata": {
      "needs_background": "light"
     },
     "output_type": "display_data"
    }
   ],
   "source": [
    "Hamburg_data.serviceCharge.hist()"
   ]
  },
  {
   "cell_type": "code",
   "execution_count": null,
   "id": "8b3faf14",
   "metadata": {},
   "outputs": [],
   "source": []
  }
 ],
 "metadata": {
  "kernelspec": {
   "display_name": "Python 3 (ipykernel)",
   "language": "python",
   "name": "python3"
  },
  "language_info": {
   "codemirror_mode": {
    "name": "ipython",
    "version": 3
   },
   "file_extension": ".py",
   "mimetype": "text/x-python",
   "name": "python",
   "nbconvert_exporter": "python",
   "pygments_lexer": "ipython3",
   "version": "3.9.7"
  }
 },
 "nbformat": 4,
 "nbformat_minor": 5
}
