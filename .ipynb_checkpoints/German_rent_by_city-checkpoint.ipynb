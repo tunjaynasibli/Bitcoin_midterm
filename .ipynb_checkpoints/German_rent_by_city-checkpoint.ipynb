{
 "cells": [
  {
   "cell_type": "code",
   "execution_count": 1,
   "id": "412d9077",
   "metadata": {},
   "outputs": [],
   "source": [
    "import pandas as pd\n",
    "import numpy as np"
   ]
  },
  {
   "cell_type": "code",
   "execution_count": 2,
   "id": "d33df29f",
   "metadata": {},
   "outputs": [],
   "source": [
    "def replace_nan(df_col):\n",
    "    df_col = df_col.fillna(value=int(df_col.mean()), inplace = True)"
   ]
  },
  {
   "cell_type": "code",
   "execution_count": 3,
   "id": "94c70590",
   "metadata": {},
   "outputs": [],
   "source": [
    "def serviceCharge(df, col):\n",
    "    df = df[df[col]<1000]"
   ]
  },
  {
   "cell_type": "code",
   "execution_count": 4,
   "id": "6c2aeca2",
   "metadata": {},
   "outputs": [],
   "source": [
    "def nan_counter(df):\n",
    "    remaining_nan = {}\n",
    "    for column in df.columns:\n",
    "        remaining_nan[column] = df[column][df[column].isna() == True].size\n",
    "    return remaining_nan"
   ]
  },
  {
   "cell_type": "code",
   "execution_count": 5,
   "id": "dc51e465",
   "metadata": {},
   "outputs": [],
   "source": [
    "data = pd.read_csv(\"immo_data.csv\")"
   ]
  },
  {
   "cell_type": "code",
   "execution_count": 6,
   "id": "e6558b4e",
   "metadata": {},
   "outputs": [
    {
     "data": {
      "text/plain": [
       "Index(['regio1', 'serviceCharge', 'heatingType', 'telekomTvOffer',\n",
       "       'telekomHybridUploadSpeed', 'newlyConst', 'balcony', 'picturecount',\n",
       "       'pricetrend', 'telekomUploadSpeed', 'totalRent', 'yearConstructed',\n",
       "       'scoutId', 'noParkSpaces', 'firingTypes', 'hasKitchen', 'geo_bln',\n",
       "       'cellar', 'yearConstructedRange', 'baseRent', 'houseNumber',\n",
       "       'livingSpace', 'geo_krs', 'condition', 'interiorQual', 'petsAllowed',\n",
       "       'street', 'streetPlain', 'lift', 'baseRentRange', 'typeOfFlat',\n",
       "       'geo_plz', 'noRooms', 'thermalChar', 'floor', 'numberOfFloors',\n",
       "       'noRoomsRange', 'garden', 'livingSpaceRange', 'regio2', 'regio3',\n",
       "       'description', 'facilities', 'heatingCosts', 'energyEfficiencyClass',\n",
       "       'lastRefurbish', 'electricityBasePrice', 'electricityKwhPrice', 'date'],\n",
       "      dtype='object')"
      ]
     },
     "execution_count": 6,
     "metadata": {},
     "output_type": "execute_result"
    }
   ],
   "source": [
    "data.columns"
   ]
  },
  {
   "cell_type": "code",
   "execution_count": 7,
   "id": "1f66c3db",
   "metadata": {},
   "outputs": [],
   "source": [
    "deleted_list = [ \"heatingType\", \"telekomTvOffer\", \"telekomHybridUploadSpeed\", \"picturecount\", \"pricetrend\", \n",
    "                \"telekomUploadSpeed\", \"scoutId\", \"noParkSpaces\", \"firingTypes\", \"geo_bln\", \"yearConstructedRange\",\n",
    "               \"houseNumber\", \"geo_krs\",\"condition\", \"interiorQual\", \"petsAllowed\",\"street\", \"streetPlain\", \"lift\", \n",
    "                \"baseRentRange\",\"geo_plz\", \"thermalChar\", \"floor\", \"numberOfFloors\", \"noRoomsRange\", \n",
    "                \"livingSpaceRange\", \"regio3\", \"description\", \"facilities\", \"heatingCosts\",\n",
    "                \"energyEfficiencyClass\", \"lastRefurbish\",\n",
    "               \"electricityBasePrice\", \"electricityKwhPrice\"]"
   ]
  },
  {
   "cell_type": "code",
   "execution_count": 8,
   "id": "8df99f4d",
   "metadata": {},
   "outputs": [],
   "source": [
    "data.drop(deleted_list, axis=1, inplace=True)"
   ]
  },
  {
   "cell_type": "code",
   "execution_count": 9,
   "id": "4e88b9ab",
   "metadata": {},
   "outputs": [],
   "source": [
    "Berlin_data = data[data[\"regio2\"] == \"Berlin\" ]\n",
    "Hamburg_data = data[data[\"regio2\"] == \"Hamburg\" ]\n",
    "Munchen_data = data[data[\"regio2\"] == \"München\" ]"
   ]
  },
  {
   "cell_type": "code",
   "execution_count": 10,
   "id": "49d5916b",
   "metadata": {},
   "outputs": [],
   "source": [
    "cities_data = pd.concat([Berlin_data, Hamburg_data, Munchen_data])"
   ]
  },
  {
   "cell_type": "code",
   "execution_count": 11,
   "id": "7a1bea17",
   "metadata": {},
   "outputs": [
    {
     "data": {
      "text/plain": [
       "array(['Berlin', 'Hamburg', 'München'], dtype=object)"
      ]
     },
     "execution_count": 11,
     "metadata": {},
     "output_type": "execute_result"
    }
   ],
   "source": [
    "cities_data.regio2.unique()"
   ]
  },
  {
   "cell_type": "markdown",
   "id": "74609a42",
   "metadata": {},
   "source": [
    "<h2> Cleaning </h2>"
   ]
  },
  {
   "cell_type": "code",
   "execution_count": 12,
   "id": "09884662",
   "metadata": {},
   "outputs": [],
   "source": [
    "#nan_counter(cities_data)"
   ]
  },
  {
   "cell_type": "code",
   "execution_count": 13,
   "id": "41fc7dab",
   "metadata": {},
   "outputs": [],
   "source": [
    "cities_data.typeOfFlat.fillna('apartment',inplace=True)"
   ]
  },
  {
   "cell_type": "code",
   "execution_count": 14,
   "id": "6410df5c",
   "metadata": {},
   "outputs": [],
   "source": [
    "cities_data.yearConstructed.fillna(cities_data.yearConstructed.median(),inplace=True)"
   ]
  },
  {
   "cell_type": "code",
   "execution_count": 15,
   "id": "04f7ca8d",
   "metadata": {},
   "outputs": [],
   "source": [
    "## We decided that values more than 1000 for serviceCharge are outliers so made filter.\n",
    "cities_data = cities_data[cities_data[\"serviceCharge\"] < 1000]"
   ]
  },
  {
   "cell_type": "code",
   "execution_count": 16,
   "id": "613164d7",
   "metadata": {},
   "outputs": [],
   "source": [
    "cities_data.dropna(subset=['totalRent'], inplace=True)"
   ]
  },
  {
   "cell_type": "code",
   "execution_count": 17,
   "id": "73cc2d2c",
   "metadata": {},
   "outputs": [],
   "source": [
    "cities_data.rename(columns = {'regio2':'cities'}, inplace=True)"
   ]
  },
  {
   "cell_type": "code",
   "execution_count": 19,
   "id": "2abbc425",
   "metadata": {},
   "outputs": [],
   "source": [
    "cities_data.to_csv(\"cities_data.csv\")"
   ]
  },
  {
   "cell_type": "code",
   "execution_count": null,
   "id": "62cea9db",
   "metadata": {},
   "outputs": [],
   "source": []
  }
 ],
 "metadata": {
  "kernelspec": {
   "display_name": "Python 3 (ipykernel)",
   "language": "python",
   "name": "python3"
  },
  "language_info": {
   "codemirror_mode": {
    "name": "ipython",
    "version": 3
   },
   "file_extension": ".py",
   "mimetype": "text/x-python",
   "name": "python",
   "nbconvert_exporter": "python",
   "pygments_lexer": "ipython3",
   "version": "3.9.7"
  }
 },
 "nbformat": 4,
 "nbformat_minor": 5
}
